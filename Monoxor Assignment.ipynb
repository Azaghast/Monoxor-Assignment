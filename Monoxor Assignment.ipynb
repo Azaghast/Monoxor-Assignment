{
 "cells": [
  {
   "cell_type": "code",
   "execution_count": 1,
   "metadata": {},
   "outputs": [],
   "source": [
    "import pycurl\n",
    "from io import BytesIO\n",
    "import json\n",
    "import pandas as pd\n",
    "import numpy as np"
   ]
  },
  {
   "cell_type": "markdown",
   "metadata": {},
   "source": [
    "Retrieving the given JSON BLOB object using pyCurl"
   ]
  },
  {
   "cell_type": "code",
   "execution_count": 2,
   "metadata": {},
   "outputs": [],
   "source": [
    "b_obj = BytesIO() \n",
    "crl = pycurl.Curl() \n",
    "\n",
    "crl.setopt(crl.URL, 'https://jsonblob.com/api/jsonBlob/f0b70eef-566b-11eb-9d92-415b3ac53928')\n",
    "crl.setopt(crl.WRITEDATA, b_obj)\n",
    "crl.perform() \n",
    "crl.close()\n",
    "\n",
    "get_body = b_obj.getvalue()\n",
    "\n",
    "data = json.loads(get_body.decode('utf8'))"
   ]
  },
  {
   "cell_type": "markdown",
   "metadata": {},
   "source": [
    "Cleaning and pre-processing the data by performing stopword-removal, splitting alphanumeric words and lemmatizing words. \n",
    "Then, pre-processed data is loaded into a pandas dataframe row-by-row."
   ]
  },
  {
   "cell_type": "code",
   "execution_count": 3,
   "metadata": {},
   "outputs": [],
   "source": [
    "import re\n",
    "import nltk \n",
    "from nltk.corpus import stopwords\n",
    "from nltk.stem import WordNetLemmatizer\n",
    "from nltk.stem.snowball import SnowballStemmer\n",
    "\n",
    "snow_stemmer = SnowballStemmer(language='english')\n",
    "stop_words = set(stopwords.words('english'))\n",
    "lemmatizer = WordNetLemmatizer() \n",
    "\n",
    "df = pd.DataFrame(columns=['description', 'label'])\n",
    "\n",
    "for i in range(len(data)):\n",
    "    curr_desc = (data[i]['req']['body']['note']['desc']).lower()\n",
    "    curr_desc = curr_desc.replace('\\n','')\n",
    "    curr_desc = curr_desc.replace('.',' ')\n",
    "    \n",
    "    temp = ''\n",
    "    for word in re.findall(r\"[^\\W\\d_]+|\\d+\",curr_desc):\n",
    "        temp+=word+' '\n",
    "    temp = temp.strip()\n",
    "    \n",
    "    temp2 = ''\n",
    "    for word in temp.split(' '):\n",
    "        if word not in stop_words and len(word)>0:\n",
    "            temp2+=word+' '\n",
    "    temp2 = temp2.strip()\n",
    "    \n",
    "    temp3 = ''\n",
    "    for word in temp2.split(' '):\n",
    "        temp3+=lemmatizer.lemmatize(word)+' '\n",
    "        #temp3+=snow_stemmer.stem(word)+' '\n",
    "    temp3 = temp3.strip()\n",
    "    \n",
    "    curr_label = int(data[i]['isSafe']) #0 for False 1 for True\n",
    "    df = df.append({'description':temp3,'label':curr_label},ignore_index=True)"
   ]
  },
  {
   "cell_type": "markdown",
   "metadata": {},
   "source": [
    "Droppping duplicate rows in the dataframe"
   ]
  },
  {
   "cell_type": "code",
   "execution_count": 4,
   "metadata": {},
   "outputs": [
    {
     "name": "stdout",
     "output_type": "stream",
     "text": [
      "Shape of dataframe prior to removal of duplicate rows:  (1000, 2)\n",
      "Shape of dataframe post removal of duplicate rows:  (750, 2)\n"
     ]
    }
   ],
   "source": [
    "print('Shape of dataframe prior to removal of duplicate rows: ',df.shape)\n",
    "df.drop_duplicates(keep='first',inplace=True)\n",
    "print('Shape of dataframe post removal of duplicate rows: ',df.shape)"
   ]
  },
  {
   "cell_type": "markdown",
   "metadata": {},
   "source": [
    "Converting data and labels to numpy arrays"
   ]
  },
  {
   "cell_type": "code",
   "execution_count": 5,
   "metadata": {},
   "outputs": [],
   "source": [
    "X = np.array(df['description'])\n",
    "Y = np.array(df['label'],dtype=np.int)"
   ]
  },
  {
   "cell_type": "markdown",
   "metadata": {},
   "source": [
    "Calculating the maximum length of a sentence in the data (to be used for optimization and model creation)"
   ]
  },
  {
   "cell_type": "code",
   "execution_count": 6,
   "metadata": {},
   "outputs": [
    {
     "name": "stdout",
     "output_type": "stream",
     "text": [
      "31\n"
     ]
    }
   ],
   "source": [
    "maxlen = 0\n",
    "for i in X:\n",
    "    currlen = len(i.split(' '))\n",
    "    if currlen>=maxlen:\n",
    "        maxlen = currlen\n",
    "print(maxlen)"
   ]
  },
  {
   "cell_type": "markdown",
   "metadata": {},
   "source": [
    "Calculating the amount of class imbalance in the dataset"
   ]
  },
  {
   "cell_type": "code",
   "execution_count": 7,
   "metadata": {},
   "outputs": [
    {
     "name": "stdout",
     "output_type": "stream",
     "text": [
      "Number of Instances of Class 0 = 178\n",
      "Number of Instances of Class 1 = 572\n",
      "Ratio of class 0 to class 1 = 0.3111888111888112\n"
     ]
    }
   ],
   "source": [
    "def get_class_ratio(array):\n",
    "    zeros = 0\n",
    "    ones = 0\n",
    "    for i in array:\n",
    "        if i==0:\n",
    "            zeros+=1\n",
    "        elif i==1:\n",
    "            ones+=1\n",
    "        else:\n",
    "            print(i,' target class value is neither one nor zero')\n",
    "    return zeros,ones,(zeros/ones)\n",
    "\n",
    "zero, ones, ration = get_class_ratio(Y)\n",
    "print('Number of Instances of Class 0 =',zero)\n",
    "print('Number of Instances of Class 1 =',ones)\n",
    "print('Ratio of class 0 to class 1 =',ration)\n",
    "\n",
    "def batch_generator(x,y,batch_size):\n",
    "    half = batch_size//2\n",
    "    x_batch = np.empty((batch_size,maxlen),dtype=np.float32)\n",
    "    y_batch = np.empty((batch_size),dtype=np.int)\n",
    "    safe_indexes = np.where(y[:]==1)[0]\n",
    "    unsafe_indexes = np.where(y[:]==0)[0]\n",
    "    \n",
    "    while True:\n",
    "        np.random.shuffle(safe_indexes)\n",
    "        np.random.shuffle(unsafe_indexes)\n",
    "        x_batch[:half] = x[safe_indexes[:half]]\n",
    "        x_batch[half:] = x[unsafe_indexes[half:batch_size]]\n",
    "        y_batch[:half] = y[safe_indexes[:half]]\n",
    "        y_batch[half:] = y[unsafe_indexes[half:batch_size]]\n",
    "        yield x_batch, y_batch"
   ]
  },
  {
   "cell_type": "markdown",
   "metadata": {},
   "source": [
    "Tokenizing and padding the data"
   ]
  },
  {
   "cell_type": "code",
   "execution_count": 8,
   "metadata": {},
   "outputs": [],
   "source": [
    "from tensorflow.keras.preprocessing.text import Tokenizer\n",
    "from tensorflow.keras.preprocessing.sequence import pad_sequences\n",
    "\n",
    "tokenizer = Tokenizer()\n",
    "tokenizer.fit_on_texts(X)\n",
    "sequences = tokenizer.texts_to_sequences(X)\n",
    "padded_sequences = pad_sequences(sequences,maxlen=maxlen,padding='post')\n",
    "vocab_size = len(tokenizer.word_index)+1"
   ]
  },
  {
   "cell_type": "markdown",
   "metadata": {},
   "source": [
    "Splitting the dataset into training, validation, and testing sets"
   ]
  },
  {
   "cell_type": "code",
   "execution_count": 50,
   "metadata": {},
   "outputs": [],
   "source": [
    "from sklearn.model_selection import train_test_split\n",
    "\n",
    "x_train,x_val,y_train,y_val = train_test_split(padded_sequences,Y,test_size=0.15,random_state=69420,shuffle=True)\n",
    "x_train,x_test,y_train,y_test = train_test_split(x_train,y_train,test_size=0.15,random_state=69420,shuffle=True)"
   ]
  },
  {
   "cell_type": "code",
   "execution_count": 51,
   "metadata": {},
   "outputs": [
    {
     "name": "stdout",
     "output_type": "stream",
     "text": [
      "(127,)\n",
      "(28,)\n",
      "(23,)\n"
     ]
    }
   ],
   "source": [
    "print(np.where(y_train[:]==0)[0].shape)\n",
    "print(np.where(y_val==0)[0].shape)\n",
    "print(np.where(y_test==0)[0].shape)"
   ]
  },
  {
   "cell_type": "markdown",
   "metadata": {},
   "source": [
    "Un-pickling the pickled embedding vector"
   ]
  },
  {
   "cell_type": "code",
   "execution_count": 52,
   "metadata": {},
   "outputs": [],
   "source": [
    "import pickle\n",
    "\n",
    "'''picklefile = open('C:\\\\Users\\\\Azaghast\\\\Downloads\\\\glove.840B.300d\\\\embedding_vector_pickledump.txt','wb')\n",
    "pickle.dump(embedding_vector,picklefile)\n",
    "picklefile.close()'''\n",
    "\n",
    "vectors = open('C:\\\\Users\\\\Azaghast\\\\Downloads\\\\glove.840B.300d\\\\embedding_vector_pickledump.txt','rb')\n",
    "embedding_vector = pickle.load(vectors)\n",
    "vectors.close()"
   ]
  },
  {
   "cell_type": "markdown",
   "metadata": {},
   "source": [
    "Creating the embedding matrix to be used in the bidirectional LSTM model"
   ]
  },
  {
   "cell_type": "code",
   "execution_count": 53,
   "metadata": {},
   "outputs": [],
   "source": [
    "embedding_matrix = np.zeros((vocab_size,300))\n",
    "for word,i in tokenizer.word_index.items():\n",
    "    embedding_value = embedding_vector.get(word)\n",
    "    if embedding_value is not None:\n",
    "        embedding_matrix[i] = embedding_value"
   ]
  },
  {
   "cell_type": "code",
   "execution_count": 54,
   "metadata": {},
   "outputs": [
    {
     "data": {
      "text/plain": [
       "(902, 300)"
      ]
     },
     "execution_count": 54,
     "metadata": {},
     "output_type": "execute_result"
    }
   ],
   "source": [
    "embedding_matrix.shape"
   ]
  },
  {
   "cell_type": "code",
   "execution_count": 55,
   "metadata": {},
   "outputs": [
    {
     "data": {
      "text/plain": [
       "\"embedding_vector = {}\\nf = open('C:\\\\Users\\\\Azaghast\\\\Downloads\\\\glove.840B.300d\\\\glove.840B.300d.txt',encoding='utf-8')\\nfor line in f:\\n    value = line.split(' ')\\n    word = value[0]\\n    coef = np.array(value[1:],dtype=np.float32)\\n    embedding_vector[word] = coef\""
      ]
     },
     "execution_count": 55,
     "metadata": {},
     "output_type": "execute_result"
    }
   ],
   "source": [
    "'''embedding_vector = {}\n",
    "f = open('C:\\\\Users\\\\Azaghast\\\\Downloads\\\\glove.840B.300d\\\\glove.840B.300d.txt',encoding='utf-8')\n",
    "for line in f:\n",
    "    value = line.split(' ')\n",
    "    word = value[0]\n",
    "    coef = np.array(value[1:],dtype=np.float32)\n",
    "    embedding_vector[word] = coef'''"
   ]
  },
  {
   "cell_type": "markdown",
   "metadata": {},
   "source": [
    "Creating a bidirectional LSTM model to classify the data"
   ]
  },
  {
   "cell_type": "code",
   "execution_count": 56,
   "metadata": {},
   "outputs": [
    {
     "name": "stdout",
     "output_type": "stream",
     "text": [
      "Model: \"sequential_6\"\n",
      "_________________________________________________________________\n",
      "Layer (type)                 Output Shape              Param #   \n",
      "=================================================================\n",
      "embedding_6 (Embedding)      (None, 31, 300)           270600    \n",
      "_________________________________________________________________\n",
      "bidirectional_6 (Bidirection (None, 256)               439296    \n",
      "_________________________________________________________________\n",
      "dense_12 (Dense)             (None, 32)                8224      \n",
      "_________________________________________________________________\n",
      "dense_13 (Dense)             (None, 1)                 33        \n",
      "=================================================================\n",
      "Total params: 718,153\n",
      "Trainable params: 447,553\n",
      "Non-trainable params: 270,600\n",
      "_________________________________________________________________\n"
     ]
    }
   ],
   "source": [
    "from tensorflow.keras.layers import LSTM\n",
    "from tensorflow.keras.layers import Dropout\n",
    "from tensorflow.keras.layers import Dense\n",
    "from tensorflow.keras.models import Sequential\n",
    "from tensorflow.keras.layers import Embedding\n",
    "from tensorflow.keras.layers import Bidirectional\n",
    "import tensorflow\n",
    "\n",
    "class custom_callback(tensorflow.keras.callbacks.Callback):#callback to end training at an optimal time so as to get very good model weights\n",
    "    def on_epoch_end(self,epoch,logs={}):\n",
    "        if (logs.get('val_accuracy'))>0.57 and (logs.get('accuracy'))>0.99:\n",
    "            print(\"Training accuracy > 99 % and validation accuracy > 57 % so training has been stopped\")\n",
    "            self.model.stop_training=True\n",
    "\n",
    "callback = custom_callback()\n",
    "            \n",
    "model = Sequential()\n",
    "model.add(Embedding(vocab_size,300,weights=[embedding_matrix],input_length=maxlen,trainable=False))\n",
    "model.add(Bidirectional(LSTM(128,dropout=0.5)))\n",
    "model.add(Dense(32,activation='relu'))\n",
    "model.add(Dense(1,activation='sigmoid'))\n",
    "model.compile(optimizer='adam',loss='binary_crossentropy',metrics=['accuracy'])\n",
    "model.summary()"
   ]
  },
  {
   "cell_type": "markdown",
   "metadata": {},
   "source": [
    "Fitting the model on the training data and validating on validation data on-the-fly for 100 epochs or until callback condition is satisfied"
   ]
  },
  {
   "cell_type": "code",
   "execution_count": 57,
   "metadata": {},
   "outputs": [
    {
     "name": "stdout",
     "output_type": "stream",
     "text": [
      "WARNING:tensorflow:sample_weight modes were coerced from\n",
      "  ...\n",
      "    to  \n",
      "  ['...']\n",
      "WARNING:tensorflow:sample_weight modes were coerced from\n",
      "  ...\n",
      "    to  \n",
      "  ['...']\n",
      "Train for 64 steps, validate for 16 steps\n",
      "Epoch 1/100\n",
      "64/64 [==============================] - 4s 57ms/step - loss: 0.5557 - accuracy: 0.7070 - val_loss: 1.2653 - val_accuracy: 0.4102\n",
      "Epoch 2/100\n",
      "64/64 [==============================] - 1s 10ms/step - loss: 0.2975 - accuracy: 0.8743 - val_loss: 1.7960 - val_accuracy: 0.4453\n",
      "Epoch 3/100\n",
      "64/64 [==============================] - 1s 11ms/step - loss: 0.1512 - accuracy: 0.9419 - val_loss: 1.6824 - val_accuracy: 0.5039\n",
      "Epoch 4/100\n",
      "64/64 [==============================] - 1s 10ms/step - loss: 0.0785 - accuracy: 0.9724 - val_loss: 2.3966 - val_accuracy: 0.4531\n",
      "Epoch 5/100\n",
      "64/64 [==============================] - 1s 10ms/step - loss: 0.0522 - accuracy: 0.9841 - val_loss: 2.6089 - val_accuracy: 0.4844\n",
      "Epoch 6/100\n",
      "64/64 [==============================] - 1s 10ms/step - loss: 0.0322 - accuracy: 0.9878 - val_loss: 2.9991 - val_accuracy: 0.4727\n",
      "Epoch 7/100\n",
      "64/64 [==============================] - 1s 10ms/step - loss: 0.0333 - accuracy: 0.9885 - val_loss: 3.5542 - val_accuracy: 0.4766\n",
      "Epoch 8/100\n",
      "64/64 [==============================] - 1s 10ms/step - loss: 0.0224 - accuracy: 0.9932 - val_loss: 3.5246 - val_accuracy: 0.5430\n",
      "Epoch 9/100\n",
      "64/64 [==============================] - 1s 10ms/step - loss: 0.0125 - accuracy: 0.9954 - val_loss: 3.5510 - val_accuracy: 0.4727\n",
      "Epoch 10/100\n",
      "64/64 [==============================] - 1s 10ms/step - loss: 0.0158 - accuracy: 0.9939 - val_loss: 3.0222 - val_accuracy: 0.5195\n",
      "Epoch 11/100\n",
      "64/64 [==============================] - 1s 10ms/step - loss: 0.0135 - accuracy: 0.9966 - val_loss: 3.2238 - val_accuracy: 0.4453\n",
      "Epoch 12/100\n",
      "64/64 [==============================] - 1s 10ms/step - loss: 0.0062 - accuracy: 0.9978 - val_loss: 3.2085 - val_accuracy: 0.5391\n",
      "Epoch 13/100\n",
      "64/64 [==============================] - 1s 10ms/step - loss: 0.0067 - accuracy: 0.9980 - val_loss: 4.1279 - val_accuracy: 0.4922\n",
      "Epoch 14/100\n",
      "64/64 [==============================] - 1s 10ms/step - loss: 0.0037 - accuracy: 0.9988 - val_loss: 3.7458 - val_accuracy: 0.4922\n",
      "Epoch 15/100\n",
      "64/64 [==============================] - ETA: 0s - loss: 0.0132 - accuracy: 0.99 - 1s 10ms/step - loss: 0.0131 - accuracy: 0.9954 - val_loss: 3.7510 - val_accuracy: 0.5078\n",
      "Epoch 16/100\n",
      "64/64 [==============================] - 1s 10ms/step - loss: 0.0030 - accuracy: 0.9990 - val_loss: 4.0824 - val_accuracy: 0.5117\n",
      "Epoch 17/100\n",
      "64/64 [==============================] - 1s 11ms/step - loss: 0.0030 - accuracy: 0.9993 - val_loss: 4.5900 - val_accuracy: 0.4688\n",
      "Epoch 18/100\n",
      "64/64 [==============================] - 1s 11ms/step - loss: 0.0074 - accuracy: 0.9971 - val_loss: 2.9256 - val_accuracy: 0.5391\n",
      "Epoch 19/100\n",
      "64/64 [==============================] - 1s 11ms/step - loss: 0.0055 - accuracy: 0.9978 - val_loss: 4.5388 - val_accuracy: 0.4688\n",
      "Epoch 20/100\n",
      "64/64 [==============================] - 1s 10ms/step - loss: 0.0041 - accuracy: 0.9990 - val_loss: 3.6383 - val_accuracy: 0.5273\n",
      "Epoch 21/100\n",
      "64/64 [==============================] - 1s 10ms/step - loss: 0.0056 - accuracy: 0.9978 - val_loss: 4.4912 - val_accuracy: 0.4805\n",
      "Epoch 22/100\n",
      "64/64 [==============================] - 1s 10ms/step - loss: 0.0019 - accuracy: 0.9998 - val_loss: 4.6017 - val_accuracy: 0.5078\n",
      "Epoch 23/100\n",
      "64/64 [==============================] - 1s 10ms/step - loss: 7.7152e-04 - accuracy: 1.0000 - val_loss: 4.3322 - val_accuracy: 0.4883\n",
      "Epoch 24/100\n",
      "64/64 [==============================] - 1s 10ms/step - loss: 0.0036 - accuracy: 0.9993 - val_loss: 4.2856 - val_accuracy: 0.5000\n",
      "Epoch 25/100\n",
      "64/64 [==============================] - 1s 10ms/step - loss: 0.0031 - accuracy: 0.9993 - val_loss: 3.8383 - val_accuracy: 0.5117\n",
      "Epoch 26/100\n",
      "64/64 [==============================] - 1s 10ms/step - loss: 0.0068 - accuracy: 0.9980 - val_loss: 3.4358 - val_accuracy: 0.5586\n",
      "Epoch 27/100\n",
      "64/64 [==============================] - 1s 11ms/step - loss: 0.0024 - accuracy: 0.9993 - val_loss: 5.1347 - val_accuracy: 0.5195\n",
      "Epoch 28/100\n",
      "64/64 [==============================] - 1s 10ms/step - loss: 0.0047 - accuracy: 0.9988 - val_loss: 3.6817 - val_accuracy: 0.5195\n",
      "Epoch 29/100\n",
      "64/64 [==============================] - 1s 11ms/step - loss: 0.0038 - accuracy: 0.9988 - val_loss: 4.1214 - val_accuracy: 0.5508\n",
      "Epoch 30/100\n",
      "64/64 [==============================] - 1s 11ms/step - loss: 0.0037 - accuracy: 0.9985 - val_loss: 4.3663 - val_accuracy: 0.5156\n",
      "Epoch 31/100\n",
      "64/64 [==============================] - 1s 10ms/step - loss: 9.0570e-04 - accuracy: 1.0000 - val_loss: 4.3341 - val_accuracy: 0.4492\n",
      "Epoch 32/100\n",
      "64/64 [==============================] - 1s 10ms/step - loss: 0.0047 - accuracy: 0.9985 - val_loss: 3.4286 - val_accuracy: 0.5078\n",
      "Epoch 33/100\n",
      "64/64 [==============================] - 1s 10ms/step - loss: 0.0073 - accuracy: 0.9976 - val_loss: 4.0412 - val_accuracy: 0.5195\n",
      "Epoch 34/100\n",
      "64/64 [==============================] - 1s 11ms/step - loss: 0.0022 - accuracy: 0.9993 - val_loss: 3.7117 - val_accuracy: 0.5469\n",
      "Epoch 35/100\n",
      "64/64 [==============================] - 1s 11ms/step - loss: 0.0045 - accuracy: 0.9978 - val_loss: 3.5560 - val_accuracy: 0.5156\n",
      "Epoch 36/100\n",
      "61/64 [===========================>..] - ETA: 0s - loss: 0.0049 - accuracy: 0.9980Training accuracy > 99 % and validation accuracy > 57 % so training has been stopped\n",
      "64/64 [==============================] - 1s 10ms/step - loss: 0.0051 - accuracy: 0.9978 - val_loss: 2.8430 - val_accuracy: 0.5898\n"
     ]
    }
   ],
   "source": [
    "history = model.fit(batch_generator(x_train,y_train,64),\n",
    "                    epochs=100,\n",
    "                    steps_per_epoch=64,\n",
    "                    validation_data=batch_generator(x_val,y_val,16),\n",
    "                    validation_steps=16,\n",
    "                    callbacks=[callback])"
   ]
  },
  {
   "cell_type": "markdown",
   "metadata": {},
   "source": [
    "Plotting Loss and Accuracy of both Training and Validation sets"
   ]
  },
  {
   "cell_type": "code",
   "execution_count": 58,
   "metadata": {},
   "outputs": [
    {
     "data": {
      "image/png": "[encoded data removed]",
      "text/plain": [
       "<Figure size 432x288 with 1 Axes>"
      ]
     },
     "metadata": {
      "needs_background": "light"
     },
     "output_type": "display_data"
    }
   ],
   "source": [
    "import matplotlib.pyplot as plt\n",
    "\n",
    "EPOCHS = 36\n",
    "\n",
    "history_obj = history.history\n",
    "epochs = [i for i in range(1,EPOCHS+1)]\n",
    "\n",
    "plt.plot(epochs,history_obj['loss'],color='green',label='Training Loss')\n",
    "plt.plot(epochs,history_obj['val_loss'],color='orange',label='Validation Loss')\n",
    "plt.xlabel(\"Epochs\")\n",
    "plt.ylabel(\"Loss\")\n",
    "plt.legend()\n",
    "plt.show()"
   ]
  },
  {
   "cell_type": "code",
   "execution_count": 59,
   "metadata": {},
   "outputs": [
    {
     "data": {
      "image/png": "[encoded data removed]",
      "text/plain": [
       "<Figure size 432x288 with 1 Axes>"
      ]
     },
     "metadata": {
      "needs_background": "light"
     },
     "output_type": "display_data"
    }
   ],
   "source": [
    "plt.plot(epochs,history_obj['accuracy'],color='green',label='Training Accuracy')\n",
    "plt.plot(epochs,history_obj['val_accuracy'],color='orange',label='Validation Accuracy')\n",
    "plt.xlabel(\"Epochs\")\n",
    "plt.ylabel(\"Accuracy\")\n",
    "plt.legend()\n",
    "plt.show()"
   ]
  },
  {
   "cell_type": "markdown",
   "metadata": {},
   "source": [
    "Generating the classification report (containing precision, recall, f1-score, and accuracy) for the model's performance on the test set"
   ]
  },
  {
   "cell_type": "code",
   "execution_count": 60,
   "metadata": {},
   "outputs": [
    {
     "name": "stdout",
     "output_type": "stream",
     "text": [
      "              precision    recall  f1-score   support\n",
      "\n",
      "           0       0.52      0.52      0.52        23\n",
      "           1       0.85      0.85      0.85        73\n",
      "\n",
      "    accuracy                           0.77        96\n",
      "   macro avg       0.69      0.69      0.69        96\n",
      "weighted avg       0.77      0.77      0.77        96\n",
      "\n"
     ]
    }
   ],
   "source": [
    "from sklearn.metrics import classification_report\n",
    "\n",
    "bilstm_pred = model.predict(x_test)\n",
    "bilstm_binary = [1 if i>0.5 else 0 for i in bilstm_pred]\n",
    "bilstm_report = classification_report(y_test,bilstm_binary)\n",
    "print(bilstm_report)"
   ]
  },
  {
   "cell_type": "markdown",
   "metadata": {},
   "source": [
    "Bidirectional-LSTM Model Performance on Test Set:\n",
    "\n",
    "Class 0 represents for unsafe statements, class 1 represents safe queries\n",
    "\n",
    "Class 0: Precision = 52 %, Recall = 52 %, F1-Score = 52 %\n",
    "Class 1: Precision = 85 %, Recall = 85 %, F1-Score = 85 %"
   ]
  }
 ],
 "metadata": {
  "kernelspec": {
   "display_name": "Python [conda env:conda_tfgpu_testenv] *",
   "language": "python",
   "name": "conda-env-conda_tfgpu_testenv-py"
  },
  "language_info": {
   "codemirror_mode": {
    "name": "ipython",
    "version": 3
   },
   "file_extension": ".py",
   "mimetype": "text/x-python",
   "name": "python",
   "nbconvert_exporter": "python",
   "pygments_lexer": "ipython3",
   "version": "3.7.9"
  }
 },
 "nbformat": 4,
 "nbformat_minor": 4
}
